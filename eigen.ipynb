{
 "cells": [
  {
   "cell_type": "code",
   "execution_count": 15,
   "metadata": {
    "collapsed": true
   },
   "outputs": [],
   "source": [
    "import numpy as np    # python module useful in handling arrays, vectors, matrices etc.\n",
    "from numpy import linalg as LA   # for eigenvalue and eigenvector computation"
   ]
  },
  {
   "cell_type": "markdown",
   "metadata": {},
   "source": [
    "Lets find eigen values and eigen vectors for this matrix\n",
    "\n",
    "\\begin{bmatrix}\n",
    "   4 & -1 & 5 \\\\\n",
    "   0 &  6 & 0 \\\\\n",
    "   1 & -2 & 0  \n",
    "\\end{bmatrix}\n"
   ]
  },
  {
   "cell_type": "code",
   "execution_count": 16,
   "metadata": {
    "collapsed": false
   },
   "outputs": [
    {
     "name": "stdout",
     "output_type": "stream",
     "text": [
      "[[ 4 -1  5]\n",
      " [ 0  6  0]\n",
      " [ 1 -2  0]]\n"
     ]
    }
   ],
   "source": [
    "A = np.matrix('4 -1 5; 0 6 0; 1 -2 0')    # declaring a numpy matrix\n",
    "print(A)"
   ]
  },
  {
   "cell_type": "code",
   "execution_count": 17,
   "metadata": {
    "collapsed": true
   },
   "outputs": [],
   "source": [
    "EigenValues, EigenVectors = LA.eig(A)"
   ]
  },
  {
   "cell_type": "code",
   "execution_count": 18,
   "metadata": {
    "collapsed": false
   },
   "outputs": [
    {
     "data": {
      "text/plain": [
       "array([ 5., -1.,  6.])"
      ]
     },
     "execution_count": 18,
     "metadata": {},
     "output_type": "execute_result"
    }
   ],
   "source": [
    "EigenValues"
   ]
  },
  {
   "cell_type": "code",
   "execution_count": 19,
   "metadata": {
    "collapsed": false
   },
   "outputs": [
    {
     "data": {
      "text/plain": [
       "matrix([[ 0.98058068, -0.70710678, -0.88077101],\n",
       "        [ 0.        ,  0.        ,  0.38533732],\n",
       "        [ 0.19611614,  0.70710678, -0.27524094]])"
      ]
     },
     "execution_count": 19,
     "metadata": {},
     "output_type": "execute_result"
    }
   ],
   "source": [
    "EigenVectors"
   ]
  },
  {
   "cell_type": "code",
   "execution_count": 20,
   "metadata": {
    "collapsed": false
   },
   "outputs": [
    {
     "name": "stdout",
     "output_type": "stream",
     "text": [
      "eingenvector for eigenvector 5.0 is [[ 0.98058068 -0.70710678 -0.88077101]]\n",
      "eingenvector for eigenvector -1.0 is [[ 0.          0.          0.38533732]]\n",
      "eingenvector for eigenvector 6.0 is [[ 0.19611614  0.70710678 -0.27524094]]\n"
     ]
    }
   ],
   "source": [
    "print ( \"eingenvector for eigenvector\", EigenValues[0], \"is\" , EigenVectors[0] )\n",
    "print ( \"eingenvector for eigenvector\", EigenValues[1], \"is\" , EigenVectors[1] )\n",
    "print ( \"eingenvector for eigenvector\", EigenValues[2], \"is\" , EigenVectors[2] )"
   ]
  },
  {
   "cell_type": "code",
   "execution_count": null,
   "metadata": {
    "collapsed": true
   },
   "outputs": [],
   "source": []
  }
 ],
 "metadata": {
  "anaconda-cloud": {},
  "kernelspec": {
   "display_name": "Python [conda root]",
   "language": "python",
   "name": "conda-root-py"
  },
  "language_info": {
   "codemirror_mode": {
    "name": "ipython",
    "version": 3
   },
   "file_extension": ".py",
   "mimetype": "text/x-python",
   "name": "python",
   "nbconvert_exporter": "python",
   "pygments_lexer": "ipython3",
   "version": "3.5.2"
  }
 },
 "nbformat": 4,
 "nbformat_minor": 1
}
